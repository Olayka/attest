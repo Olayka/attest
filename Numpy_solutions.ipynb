{
  "nbformat": 4,
  "nbformat_minor": 0,
  "metadata": {
    "colab": {
      "provenance": [],
      "collapsed_sections": []
    },
    "kernelspec": {
      "name": "python3",
      "display_name": "Python 3"
    },
    "language_info": {
      "name": "python"
    }
  },
  "cells": [
    {
      "cell_type": "code",
      "source": [
        "# (1) a. Импортируйте библиотеку NumPy\n",
        "import numpy as np"
      ],
      "metadata": {
        "id": "OJxkY16M7YAr"
      },
      "execution_count": null,
      "outputs": []
    },
    {
      "cell_type": "code",
      "source": [
        "# (2) b. Создайте массив из 10 нулей\n",
        "a = np.zeros(10)\n",
        "print(a)"
      ],
      "metadata": {
        "colab": {
          "base_uri": "https://localhost:8080/"
        },
        "id": "8yIkxha6gYU7",
        "outputId": "210837ba-46d9-43dd-d3e0-9b73e5c9ac22"
      },
      "execution_count": null,
      "outputs": [
        {
          "output_type": "stream",
          "name": "stdout",
          "text": [
            "[0. 0. 0. 0. 0. 0. 0. 0. 0. 0.]\n"
          ]
        }
      ]
    },
    {
      "cell_type": "code",
      "source": [
        "# (3) d. Создать массив из 10 пятерок\n",
        "a = np.arange(10)\n",
        "a[:] = 5\n",
        "print(a)"
      ],
      "metadata": {
        "colab": {
          "base_uri": "https://localhost:8080/"
        },
        "id": "pO4Io4iKhMhO",
        "outputId": "a5603171-c44d-4d13-8dfc-616792580382"
      },
      "execution_count": null,
      "outputs": [
        {
          "output_type": "stream",
          "name": "stdout",
          "text": [
            "[5 5 5 5 5 5 5 5 5 5]\n"
          ]
        }
      ]
    },
    {
      "cell_type": "code",
      "source": [
        "# (4) e. Создать массив из целых чисел от 10 до 50\n",
        "a = np.arange(10, 51)\n",
        "print(a)"
      ],
      "metadata": {
        "colab": {
          "base_uri": "https://localhost:8080/"
        },
        "id": "lB8bh8bQiFyC",
        "outputId": "b84fb663-b444-466e-a901-1010dbaa843b"
      },
      "execution_count": null,
      "outputs": [
        {
          "output_type": "stream",
          "name": "stdout",
          "text": [
            "[10 11 12 13 14 15 16 17 18 19 20 21 22 23 24 25 26 27 28 29 30 31 32 33\n",
            " 34 35 36 37 38 39 40 41 42 43 44 45 46 47 48 49 50]\n"
          ]
        }
      ]
    },
    {
      "cell_type": "code",
      "source": [
        "# (5) f. Создать массив из четных чисел от 10 до 50\n",
        "a = np.arange(10, 51, 2)\n",
        "print(a)"
      ],
      "metadata": {
        "colab": {
          "base_uri": "https://localhost:8080/"
        },
        "id": "2_wg5XfWia2-",
        "outputId": "89c14b09-5375-40cd-c00c-3ce34acf1870"
      },
      "execution_count": null,
      "outputs": [
        {
          "output_type": "stream",
          "name": "stdout",
          "text": [
            "[10 12 14 16 18 20 22 24 26 28 30 32 34 36 38 40 42 44 46 48 50]\n"
          ]
        }
      ]
    },
    {
      "cell_type": "code",
      "source": [
        "# (6) g. Создать матрицу 3х3 с числами от 0 до 8\n",
        "a = np.arange(0,9)\n",
        "b = a.reshape(3,3)\n",
        "print(b)\n"
      ],
      "metadata": {
        "colab": {
          "base_uri": "https://localhost:8080/"
        },
        "id": "KbYqIVQojAit",
        "outputId": "f5f3790c-8070-4b1f-dcc6-be3451154e7d"
      },
      "execution_count": null,
      "outputs": [
        {
          "output_type": "stream",
          "name": "stdout",
          "text": [
            "[[0 1 2]\n",
            " [3 4 5]\n",
            " [6 7 8]]\n"
          ]
        }
      ]
    },
    {
      "cell_type": "code",
      "source": [
        "# (7) h.Создать единичную матрицу 3x3\n",
        "a = np.ones(9)\n",
        "b = a.reshape(3,3)\n",
        "print(b)"
      ],
      "metadata": {
        "colab": {
          "base_uri": "https://localhost:8080/"
        },
        "id": "_ac8Qj80kIqe",
        "outputId": "d33db5d9-9ec8-4450-ee73-21d6a2083bea"
      },
      "execution_count": null,
      "outputs": [
        {
          "output_type": "stream",
          "name": "stdout",
          "text": [
            "[[1. 1. 1.]\n",
            " [1. 1. 1.]\n",
            " [1. 1. 1.]]\n"
          ]
        }
      ]
    },
    {
      "cell_type": "code",
      "source": [
        "# (8) i.Используйте NumPy для генерации случайного числа от 0 до 1\n",
        "a = np.random.rand()\n",
        "print(a)"
      ],
      "metadata": {
        "colab": {
          "base_uri": "https://localhost:8080/"
        },
        "id": "T8IRmOiOkaoR",
        "outputId": "ce416ab7-ad4b-4f10-96c3-811e17be9b2a"
      },
      "execution_count": null,
      "outputs": [
        {
          "output_type": "stream",
          "name": "stdout",
          "text": [
            "0.6704186795654703\n"
          ]
        }
      ]
    },
    {
      "cell_type": "code",
      "source": [
        "# (9) j. Используйте NumPy для генерации массива из 25 случайных чисел, взятых из стандартного нормального распределения\n",
        "a = np.random.normal(0,1,25)\n",
        "print(a)"
      ],
      "metadata": {
        "colab": {
          "base_uri": "https://localhost:8080/"
        },
        "id": "pLah_izYmHKB",
        "outputId": "48e9fc31-77a9-441e-9b98-adceb9e22805"
      },
      "execution_count": null,
      "outputs": [
        {
          "output_type": "stream",
          "name": "stdout",
          "text": [
            "[-1.09756365  0.59729223 -0.86111834 -0.97536302 -1.06717312  0.98700512\n",
            " -0.42569197  0.02113285 -0.21541673  0.74226578 -0.34797842  1.364697\n",
            " -0.27657684  0.42218855 -0.53440728 -0.60015452 -0.7051762   1.8150929\n",
            " -0.51547191  0.49473622  1.2703846   0.91080933 -0.77830346  0.76505181\n",
            "  0.29164118]\n"
          ]
        }
      ]
    },
    {
      "cell_type": "code",
      "source": [
        "# (10) k. Создайте следующую матрицу используя функции библиотеки NumPy\n",
        "a = np.arange(1,101).reshape(10,10)\n",
        "print(a / 100)"
      ],
      "metadata": {
        "colab": {
          "base_uri": "https://localhost:8080/"
        },
        "id": "TWSMVEoumZEc",
        "outputId": "f4cae03b-170d-493f-cabb-c3c7570a1021"
      },
      "execution_count": null,
      "outputs": [
        {
          "output_type": "stream",
          "name": "stdout",
          "text": [
            "[[0.01 0.02 0.03 0.04 0.05 0.06 0.07 0.08 0.09 0.1 ]\n",
            " [0.11 0.12 0.13 0.14 0.15 0.16 0.17 0.18 0.19 0.2 ]\n",
            " [0.21 0.22 0.23 0.24 0.25 0.26 0.27 0.28 0.29 0.3 ]\n",
            " [0.31 0.32 0.33 0.34 0.35 0.36 0.37 0.38 0.39 0.4 ]\n",
            " [0.41 0.42 0.43 0.44 0.45 0.46 0.47 0.48 0.49 0.5 ]\n",
            " [0.51 0.52 0.53 0.54 0.55 0.56 0.57 0.58 0.59 0.6 ]\n",
            " [0.61 0.62 0.63 0.64 0.65 0.66 0.67 0.68 0.69 0.7 ]\n",
            " [0.71 0.72 0.73 0.74 0.75 0.76 0.77 0.78 0.79 0.8 ]\n",
            " [0.81 0.82 0.83 0.84 0.85 0.86 0.87 0.88 0.89 0.9 ]\n",
            " [0.91 0.92 0.93 0.94 0.95 0.96 0.97 0.98 0.99 1.  ]]\n"
          ]
        }
      ]
    },
    {
      "cell_type": "code",
      "source": [
        "# (11) l. Дана стартовая матрица (обязательно запустите код ниже в вашем решении!). Эта матрица будет использоваться в последующих задачах\n",
        "# это наша стартовая матрица\n",
        "# Необходимо написать код который вернет следующую матрицуиз стартовой:\n",
        "mat = np.arange(1,26).reshape(5,5)\n",
        "print(mat)\n",
        "print('--------')\n",
        "print(mat[2:,1:])"
      ],
      "metadata": {
        "colab": {
          "base_uri": "https://localhost:8080/"
        },
        "id": "CH8Gb6aLoY3O",
        "outputId": "a428de0e-2e03-4c54-f255-bae6ed5729f8"
      },
      "execution_count": null,
      "outputs": [
        {
          "output_type": "stream",
          "name": "stdout",
          "text": [
            "[[ 1  2  3  4  5]\n",
            " [ 6  7  8  9 10]\n",
            " [11 12 13 14 15]\n",
            " [16 17 18 19 20]\n",
            " [21 22 23 24 25]]\n",
            "--------\n",
            "[[12 13 14 15]\n",
            " [17 18 19 20]\n",
            " [22 23 24 25]]\n"
          ]
        }
      ]
    },
    {
      "cell_type": "code",
      "source": [
        "# (12) m. Написать код обращения к элементу который вернет значение  20 изстартовой матрицы задачи l\n",
        "# это наша стартовая матрица\n",
        "mat = np.arange(1,26).reshape(5,5)\n",
        "print(mat)\n",
        "print('---------')\n",
        "print(mat[3,4])\n"
      ],
      "metadata": {
        "colab": {
          "base_uri": "https://localhost:8080/"
        },
        "id": "1wmz0filp5I6",
        "outputId": "5a4cb1c1-a498-4392-e402-9cbf3c543d4a"
      },
      "execution_count": null,
      "outputs": [
        {
          "output_type": "stream",
          "name": "stdout",
          "text": [
            "[[ 1  2  3  4  5]\n",
            " [ 6  7  8  9 10]\n",
            " [11 12 13 14 15]\n",
            " [16 17 18 19 20]\n",
            " [21 22 23 24 25]]\n",
            "---------\n",
            "20\n"
          ]
        }
      ]
    },
    {
      "cell_type": "code",
      "source": [
        "# (13) n. Написать код к стартовой матрице задачи l , который воспроизводитвывод, показанный ниже\n",
        "\n",
        "mat = np.arange(1,26).reshape(5,5)\n",
        "print(mat)\n",
        "print('---------')\n",
        "a = mat[0:3,1]\n",
        "print(a.reshape(3,1))\n"
      ],
      "metadata": {
        "colab": {
          "base_uri": "https://localhost:8080/"
        },
        "id": "PgED9iNpqQPn",
        "outputId": "a9e71e48-eb78-4006-be30-44cada126fe4"
      },
      "execution_count": null,
      "outputs": [
        {
          "output_type": "stream",
          "name": "stdout",
          "text": [
            "[[ 1  2  3  4  5]\n",
            " [ 6  7  8  9 10]\n",
            " [11 12 13 14 15]\n",
            " [16 17 18 19 20]\n",
            " [21 22 23 24 25]]\n",
            "---------\n",
            "[[ 2]\n",
            " [ 7]\n",
            " [12]]\n"
          ]
        }
      ]
    },
    {
      "cell_type": "code",
      "source": [
        "# (14) o.Написать код к стартовой матрице задачи l , который воспроизводитвывод, показанный ниже\n",
        "# это наша стартовая матрица\n",
        "mat = np.arange(1,26).reshape(5,5)\n",
        "print(mat)\n",
        "print('---------')\n",
        "print(mat[4:])"
      ],
      "metadata": {
        "colab": {
          "base_uri": "https://localhost:8080/"
        },
        "id": "J0cTqOmDrMpK",
        "outputId": "8b13ecf4-90b9-46bd-f8d7-52bb81880d00"
      },
      "execution_count": null,
      "outputs": [
        {
          "output_type": "stream",
          "name": "stdout",
          "text": [
            "[[ 1  2  3  4  5]\n",
            " [ 6  7  8  9 10]\n",
            " [11 12 13 14 15]\n",
            " [16 17 18 19 20]\n",
            " [21 22 23 24 25]]\n",
            "---------\n",
            "[[21 22 23 24 25]]\n"
          ]
        }
      ]
    },
    {
      "cell_type": "code",
      "source": [
        "# (15) p.Написать код к стартовой матрице задачи l , который воспроизводитвывод, показанный ниже\n",
        "# это наша стартовая матрица\n",
        "mat = np.arange(1,26).reshape(5,5)\n",
        "print(mat)\n",
        "print('---------')\n",
        "print(mat[3:])\n"
      ],
      "metadata": {
        "colab": {
          "base_uri": "https://localhost:8080/"
        },
        "id": "c584yq4xsHuw",
        "outputId": "0ce30d63-e83e-4658-9296-28c1218c1cdf"
      },
      "execution_count": null,
      "outputs": [
        {
          "output_type": "stream",
          "name": "stdout",
          "text": [
            "[[ 1  2  3  4  5]\n",
            " [ 6  7  8  9 10]\n",
            " [11 12 13 14 15]\n",
            " [16 17 18 19 20]\n",
            " [21 22 23 24 25]]\n",
            "---------\n",
            "[[16 17 18 19 20]\n",
            " [21 22 23 24 25]]\n"
          ]
        }
      ]
    },
    {
      "cell_type": "code",
      "source": [
        "# (16) q. Получить сумму всех значений в стартовой матрице mat\n",
        "# это наша стартовая матрица\n",
        "mat = np.arange(1,26).reshape(5,5)\n",
        "print(mat)\n",
        "print('---------')\n",
        "print(mat.sum())\n"
      ],
      "metadata": {
        "colab": {
          "base_uri": "https://localhost:8080/"
        },
        "id": "8rcS4Xy1tnei",
        "outputId": "c901d309-984d-465f-d198-0e9dc567f2f5"
      },
      "execution_count": null,
      "outputs": [
        {
          "output_type": "stream",
          "name": "stdout",
          "text": [
            "[[ 1  2  3  4  5]\n",
            " [ 6  7  8  9 10]\n",
            " [11 12 13 14 15]\n",
            " [16 17 18 19 20]\n",
            " [21 22 23 24 25]]\n",
            "---------\n",
            "325\n"
          ]
        }
      ]
    },
    {
      "cell_type": "code",
      "source": [
        "# (17) r.Получить стандартное отклонение в стартовой матрице mat\n",
        "# это наша стартовая матрица\n",
        "mat = np.arange(1,26).reshape(5,5)\n",
        "print(mat)\n",
        "print('---------')\n",
        "print(mat.std())"
      ],
      "metadata": {
        "colab": {
          "base_uri": "https://localhost:8080/"
        },
        "id": "x9Id0-DzuEGW",
        "outputId": "8560531e-d562-4e46-c21f-ed2c6b68c94f"
      },
      "execution_count": null,
      "outputs": [
        {
          "output_type": "stream",
          "name": "stdout",
          "text": [
            "[[ 1  2  3  4  5]\n",
            " [ 6  7  8  9 10]\n",
            " [11 12 13 14 15]\n",
            " [16 17 18 19 20]\n",
            " [21 22 23 24 25]]\n",
            "---------\n",
            "7.211102550927978\n"
          ]
        }
      ]
    },
    {
      "cell_type": "code",
      "source": [
        "# (18) s.Получить сумму значений в колонках в стартовой матрице mat\n",
        "# это наша стартовая матрица\n",
        "mat = np.arange(1,26).reshape(5,5)\n",
        "print(mat)\n",
        "print('---------')\n",
        "print(mat.sum(axis = 0))"
      ],
      "metadata": {
        "colab": {
          "base_uri": "https://localhost:8080/"
        },
        "id": "KoJe2KItuOSu",
        "outputId": "0faa1aa3-1d54-4faa-b030-e7cb1ffed1b5"
      },
      "execution_count": null,
      "outputs": [
        {
          "output_type": "stream",
          "name": "stdout",
          "text": [
            "[[ 1  2  3  4  5]\n",
            " [ 6  7  8  9 10]\n",
            " [11 12 13 14 15]\n",
            " [16 17 18 19 20]\n",
            " [21 22 23 24 25]]\n",
            "---------\n",
            "[55 60 65 70 75]\n"
          ]
        }
      ]
    }
  ]
}